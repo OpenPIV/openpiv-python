{
 "cells": [
  {
   "cell_type": "markdown",
   "metadata": {},
   "source": [
    "### Comparison with vectorized and original functions\n",
    "#### Written by Erich Zimmer\n",
    "#### Created at 20210817, 2109 CTZ"
   ]
  },
  {
   "cell_type": "code",
   "execution_count": 1,
   "metadata": {},
   "outputs": [],
   "source": [
    "import numpy as np\n",
    "import matplotlib.pyplot as plt\n",
    "from openpiv.pyprocess import find_first_peak,\\\n",
    "    vectorized_correlation_to_displacements\n",
    "from openpiv.tools import imread\n",
    "from numpy import log"
   ]
  },
  {
   "cell_type": "markdown",
   "metadata": {},
   "source": [
    "### Vectorized solution for subpixel estimation"
   ]
  },
  {
   "cell_type": "code",
   "execution_count": 2,
   "metadata": {},
   "outputs": [
    {
     "data": {
      "text/plain": [
       "array([[0., 0., 0., ..., 0., 0., 0.],\n",
       "       [0., 0., 0., ..., 0., 0., 0.],\n",
       "       [0., 0., 1., ..., 0., 0., 0.],\n",
       "       ...,\n",
       "       [0., 0., 0., ..., 0., 0., 0.],\n",
       "       [0., 0., 0., ..., 0., 0., 0.],\n",
       "       [0., 0., 0., ..., 0., 0., 0.]])"
      ]
     },
     "execution_count": 2,
     "metadata": {},
     "output_type": "execute_result"
    }
   ],
   "source": [
    "N = 64\n",
    "\n",
    "corr = np.zeros((N,N))\n",
    "\n",
    "corr[2:5,2:5] = 1\n",
    "corr[3,3] = 2\n",
    "corr[3,4] = 3\n",
    "corr[3,5] = 1\n",
    "corr"
   ]
  },
  {
   "cell_type": "code",
   "execution_count": 3,
   "metadata": {},
   "outputs": [],
   "source": [
    "pos,height = find_first_peak(corr)"
   ]
  },
  {
   "cell_type": "code",
   "execution_count": 4,
   "metadata": {},
   "outputs": [
    {
     "data": {
      "text/plain": [
       "((3, 4), 3.0)"
      ]
     },
     "execution_count": 4,
     "metadata": {},
     "output_type": "execute_result"
    }
   ],
   "source": [
    "pos,height"
   ]
  },
  {
   "cell_type": "code",
   "execution_count": 5,
   "metadata": {},
   "outputs": [],
   "source": [
    "from openpiv.pyprocess import find_subpixel_peak_position"
   ]
  },
  {
   "cell_type": "code",
   "execution_count": 6,
   "metadata": {},
   "outputs": [
    {
     "data": {
      "text/plain": [
       "(3.0, 3.769577293545741)"
      ]
     },
     "execution_count": 6,
     "metadata": {},
     "output_type": "execute_result"
    }
   ],
   "source": [
    "find_subpixel_peak_position(corr) "
   ]
  },
  {
   "cell_type": "code",
   "execution_count": 7,
   "metadata": {},
   "outputs": [
    {
     "name": "stdout",
     "output_type": "stream",
     "text": [
      "Found 0 bad peak(s)\n"
     ]
    },
    {
     "data": {
      "text/plain": [
       "array([[3.       ],\n",
       "       [3.7695773]])"
      ]
     },
     "execution_count": 7,
     "metadata": {},
     "output_type": "execute_result"
    }
   ],
   "source": [
    "np.flip(vectorized_correlation_to_displacements(corr[np.newaxis, :, :]) + np.floor(corr.shape[0] / 2))"
   ]
  },
  {
   "cell_type": "markdown",
   "metadata": {},
   "source": [
    "## let's find some corner cases"
   ]
  },
  {
   "cell_type": "code",
   "execution_count": 8,
   "metadata": {},
   "outputs": [
    {
     "data": {
      "text/plain": [
       "array([[2., 1., 3., ..., 0., 0., 0.],\n",
       "       [1., 1., 1., ..., 0., 0., 0.],\n",
       "       [1., 1., 1., ..., 0., 0., 0.],\n",
       "       ...,\n",
       "       [0., 0., 0., ..., 0., 0., 0.],\n",
       "       [0., 0., 0., ..., 0., 0., 0.],\n",
       "       [0., 0., 0., ..., 0., 0., 0.]])"
      ]
     },
     "execution_count": 8,
     "metadata": {},
     "output_type": "execute_result"
    }
   ],
   "source": [
    "# peak on the border \n",
    "corr = np.zeros((N,N))\n",
    "\n",
    "corr[:3,:3] = 1\n",
    "corr[0,0] = 2\n",
    "corr[0,2] = 3\n",
    "corr[0,3] = 1\n",
    "corr"
   ]
  },
  {
   "cell_type": "markdown",
   "metadata": {},
   "source": [
    "## Corner case 1: peak on the border\n",
    "\n",
    "it is disregarded in our function because we cannot define well the subpixel\n",
    "position. Or do we? "
   ]
  },
  {
   "cell_type": "code",
   "execution_count": 9,
   "metadata": {},
   "outputs": [
    {
     "data": {
      "text/plain": [
       "(nan, nan)"
      ]
     },
     "execution_count": 9,
     "metadata": {},
     "output_type": "execute_result"
    }
   ],
   "source": [
    "find_subpixel_peak_position(corr)"
   ]
  },
  {
   "cell_type": "code",
   "execution_count": 10,
   "metadata": {},
   "outputs": [
    {
     "name": "stdout",
     "output_type": "stream",
     "text": [
      "Found 1 bad peak(s)\n"
     ]
    },
    {
     "data": {
      "text/plain": [
       "array([[nan, nan]])"
      ]
     },
     "execution_count": 10,
     "metadata": {},
     "output_type": "execute_result"
    }
   ],
   "source": [
    "np.flip(vectorized_correlation_to_displacements(corr[np.newaxis, :, :]) + np.floor(corr.shape[0] / 2))"
   ]
  },
  {
   "cell_type": "code",
   "execution_count": 11,
   "metadata": {},
   "outputs": [
    {
     "data": {
      "text/plain": [
       "array([[1.0000000e-07, 1.0000000e-07, 1.0000000e-07, ..., 1.0000000e-07,\n",
       "        1.0000000e-07, 1.0000000e-07],\n",
       "       [1.0000000e-07, 1.0000000e-07, 1.0000000e-07, ..., 1.0000000e-07,\n",
       "        1.0000000e-07, 1.0000000e-07],\n",
       "       [1.0000000e-07, 1.0000000e-07, 1.0000000e-07, ..., 1.0000000e-07,\n",
       "        1.0000000e-07, 1.0000000e-07],\n",
       "       ...,\n",
       "       [1.0000001e+00, 1.0000001e+00, 1.0000001e+00, ..., 1.0000000e-07,\n",
       "        1.0000000e-07, 1.0000000e-07],\n",
       "       [1.0000001e+00, 1.0000001e+00, 1.0000001e+00, ..., 1.0000000e-07,\n",
       "        1.0000000e-07, 1.0000000e-07],\n",
       "       [2.0000001e+00, 1.0000001e+00, 3.0000001e+00, ..., 1.0000000e-07,\n",
       "        1.0000000e-07, 1.0000000e-07]])"
      ]
     },
     "execution_count": 11,
     "metadata": {},
     "output_type": "execute_result"
    }
   ],
   "source": [
    "# peak on the border \n",
    "corr = np.flipud(corr)\n",
    "corr"
   ]
  },
  {
   "cell_type": "code",
   "execution_count": 12,
   "metadata": {},
   "outputs": [
    {
     "data": {
      "text/plain": [
       "(nan, nan)"
      ]
     },
     "execution_count": 12,
     "metadata": {},
     "output_type": "execute_result"
    }
   ],
   "source": [
    "find_subpixel_peak_position(corr)"
   ]
  },
  {
   "cell_type": "code",
   "execution_count": 13,
   "metadata": {},
   "outputs": [
    {
     "name": "stdout",
     "output_type": "stream",
     "text": [
      "Found 1 bad peak(s)\n"
     ]
    },
    {
     "data": {
      "text/plain": [
       "array([[nan, nan]])"
      ]
     },
     "execution_count": 13,
     "metadata": {},
     "output_type": "execute_result"
    }
   ],
   "source": [
    "np.flip(vectorized_correlation_to_displacements(corr[np.newaxis, :, :]) + np.floor(corr.shape[0] / 2))"
   ]
  },
  {
   "cell_type": "code",
   "execution_count": 14,
   "metadata": {},
   "outputs": [
    {
     "data": {
      "text/plain": [
       "array([[2.0000000e-07, 2.0000000e-07, 2.0000000e-07, ..., 2.0000000e-07,\n",
       "        2.0000000e-07, 2.0000000e-07],\n",
       "       [2.0000000e-07, 2.0000000e-07, 2.0000000e-07, ..., 2.0000000e-07,\n",
       "        2.0000000e-07, 2.0000000e-07],\n",
       "       [2.0000000e-07, 2.0000000e-07, 2.0000000e-07, ..., 2.0000000e-07,\n",
       "        2.0000000e-07, 2.0000000e-07],\n",
       "       ...,\n",
       "       [2.0000000e-07, 2.0000000e-07, 2.0000000e-07, ..., 1.0000002e+00,\n",
       "        1.0000002e+00, 1.0000002e+00],\n",
       "       [2.0000000e-07, 2.0000000e-07, 2.0000000e-07, ..., 1.0000002e+00,\n",
       "        1.0000002e+00, 5.0000000e+00],\n",
       "       [2.0000000e-07, 2.0000000e-07, 2.0000000e-07, ..., 3.0000002e+00,\n",
       "        1.0000002e+00, 2.0000002e+00]])"
      ]
     },
     "execution_count": 14,
     "metadata": {},
     "output_type": "execute_result"
    }
   ],
   "source": [
    "corr = np.fliplr(corr)\n",
    "corr[-2,-1]=5\n",
    "corr"
   ]
  },
  {
   "cell_type": "code",
   "execution_count": 15,
   "metadata": {},
   "outputs": [
    {
     "data": {
      "text/plain": [
       "(nan, nan)"
      ]
     },
     "execution_count": 15,
     "metadata": {},
     "output_type": "execute_result"
    }
   ],
   "source": [
    "find_subpixel_peak_position(corr)"
   ]
  },
  {
   "cell_type": "code",
   "execution_count": 16,
   "metadata": {},
   "outputs": [
    {
     "name": "stdout",
     "output_type": "stream",
     "text": [
      "Found 1 bad peak(s)\n"
     ]
    },
    {
     "data": {
      "text/plain": [
       "array([[nan, nan]])"
      ]
     },
     "execution_count": 16,
     "metadata": {},
     "output_type": "execute_result"
    }
   ],
   "source": [
    "np.flip(vectorized_correlation_to_displacements(corr[np.newaxis, :, :]) + np.floor(corr.shape[0] / 2))"
   ]
  },
  {
   "cell_type": "code",
   "execution_count": 17,
   "metadata": {},
   "outputs": [],
   "source": [
    "## Corner case 2: zero next to the peak - the log(0) fails"
   ]
  },
  {
   "cell_type": "code",
   "execution_count": 18,
   "metadata": {},
   "outputs": [
    {
     "data": {
      "text/plain": [
       "array([[0., 0., 0., ..., 0., 0., 0.],\n",
       "       [0., 0., 0., ..., 0., 0., 0.],\n",
       "       [0., 0., 1., ..., 0., 0., 0.],\n",
       "       ...,\n",
       "       [0., 0., 0., ..., 0., 0., 0.],\n",
       "       [0., 0., 0., ..., 0., 0., 0.],\n",
       "       [0., 0., 0., ..., 0., 0., 0.]])"
      ]
     },
     "execution_count": 18,
     "metadata": {},
     "output_type": "execute_result"
    }
   ],
   "source": [
    "corr = np.zeros((N,N))\n",
    "\n",
    "corr[2:5,2:5] = 1\n",
    "corr[3,3] = 2\n",
    "corr[3,4] = 3\n",
    "# corr[3,5] = 1\n",
    "corr"
   ]
  },
  {
   "cell_type": "code",
   "execution_count": 19,
   "metadata": {},
   "outputs": [
    {
     "data": {
      "text/plain": [
       "(3.0, 3.5230088020336483)"
      ]
     },
     "execution_count": 19,
     "metadata": {},
     "output_type": "execute_result"
    }
   ],
   "source": [
    "find_subpixel_peak_position(corr)"
   ]
  },
  {
   "cell_type": "code",
   "execution_count": 20,
   "metadata": {},
   "outputs": [
    {
     "name": "stdout",
     "output_type": "stream",
     "text": [
      "Found 0 bad peak(s)\n"
     ]
    },
    {
     "data": {
      "text/plain": [
       "array([[3.        ],\n",
       "       [3.52395088]])"
      ]
     },
     "execution_count": 20,
     "metadata": {},
     "output_type": "execute_result"
    }
   ],
   "source": [
    "np.flip(vectorized_correlation_to_displacements(corr[np.newaxis, :, :]) + np.floor(corr.shape[0] / 2))"
   ]
  },
  {
   "cell_type": "code",
   "execution_count": 21,
   "metadata": {},
   "outputs": [
    {
     "name": "stdout",
     "output_type": "stream",
     "text": [
      "3.0 3.5245386005349215\n",
      "3.0 3.5253214094430922\n",
      "3.0 3.75\n",
      "3.0 3.75\n",
      "3.0 3.6000001199999647\n",
      "3.0 3.600000167999929\n"
     ]
    }
   ],
   "source": [
    "eps = 1e-7\n",
    "for method in ['gaussian','parabolic','centroid']:\n",
    "    i,j = find_subpixel_peak_position(corr,method)\n",
    "    print(i,j)\n",
    "    i,j = find_subpixel_peak_position(corr+eps,method)\n",
    "    print(i,j)\n"
   ]
  },
  {
   "cell_type": "code",
   "execution_count": 22,
   "metadata": {},
   "outputs": [
    {
     "name": "stdout",
     "output_type": "stream",
     "text": [
      "Found 0 bad peak(s)\n",
      "[3.] [3.52561304]\n",
      "Found 0 bad peak(s)\n",
      "[3.] [3.75]\n",
      "Found 0 bad peak(s)\n",
      "[3.] [3.60000019]\n"
     ]
    }
   ],
   "source": [
    "for method in ['gaussian','parabolic','centroid']:\n",
    "    j, i = vectorized_correlation_to_displacements(corr[np.newaxis, :, :], subpixel_method = method) + np.floor(corr.shape[0] / 2)\n",
    "    print(i, j)"
   ]
  },
  {
   "cell_type": "markdown",
   "metadata": {},
   "source": [
    "### Speed increase demonstration"
   ]
  },
  {
   "cell_type": "code",
   "execution_count": 23,
   "metadata": {},
   "outputs": [],
   "source": [
    "import pylab"
   ]
  },
  {
   "cell_type": "code",
   "execution_count": 24,
   "metadata": {},
   "outputs": [
    {
     "data": {
      "text/plain": [
       "<matplotlib.image.AxesImage at 0x1cef68f6190>"
      ]
     },
     "execution_count": 24,
     "metadata": {},
     "output_type": "execute_result"
    },
    {
     "data": {
      "image/png": "[encoded data removed]",
      "text/plain": [
       "<Figure size 432x288 with 1 Axes>"
      ]
     },
     "metadata": {
      "needs_background": "light"
     },
     "output_type": "display_data"
    }
   ],
   "source": [
    "frame_a = imread('../test11/A001_1.tif')\n",
    "frame_b = imread('../test11/A001_2.tif')\n",
    "pylab.imshow(np.c_[frame_a,np.ones((frame_a.shape[0],20)),frame_b],\n",
    "             cmap=pylab.cm.gray)"
   ]
  },
  {
   "cell_type": "code",
   "execution_count": 25,
   "metadata": {},
   "outputs": [],
   "source": [
    "window_size = 32\n",
    "overlap = 16\n",
    "from openpiv.pyprocess import moving_window_array, get_field_shape,\\\n",
    "    get_coordinates, fft_correlate_images, correlation_to_displacement\n",
    "n_rows, n_cols = get_field_shape(\n",
    "            frame_a.shape, \n",
    "            window_size, \n",
    "            overlap\n",
    "        )\n",
    "x, y = get_coordinates(frame_a.shape, window_size, overlap)\n",
    "\n",
    "aa = moving_window_array(\n",
    "            frame_a, \n",
    "            window_size, \n",
    "            overlap\n",
    ")\n",
    "\n",
    "bb = moving_window_array(\n",
    "            frame_b, \n",
    "            window_size,\n",
    "            overlap\n",
    ")\n",
    "corr = fft_correlate_images(\n",
    "            aa, bb,\n",
    "            correlation_method='circular',\n",
    "            normalized_correlation = True\n",
    ")"
   ]
  },
  {
   "cell_type": "code",
   "execution_count": 26,
   "metadata": {},
   "outputs": [
    {
     "name": "stdout",
     "output_type": "stream",
     "text": [
      "Wall time: 2.31 s\n"
     ]
    }
   ],
   "source": [
    "%%time\n",
    "u_o, v_o = correlation_to_displacement(\n",
    "            corr, \n",
    "            n_rows,\n",
    "            n_cols,\n",
    "            subpixel_method='gaussian'\n",
    "        )"
   ]
  },
  {
   "cell_type": "code",
   "execution_count": 27,
   "metadata": {},
   "outputs": [
    {
     "name": "stdout",
     "output_type": "stream",
     "text": [
      "Found 12 bad peak(s)\n",
      "Wall time: 94.9 ms\n"
     ]
    }
   ],
   "source": [
    "%%time\n",
    "u_v, v_v = vectorized_correlation_to_displacements(\n",
    "    corr,\n",
    "    n_rows,\n",
    "    n_cols,\n",
    "    subpixel_method='gaussian',\n",
    "    #eps = 1e-7\n",
    ")"
   ]
  },
  {
   "cell_type": "code",
   "execution_count": 28,
   "metadata": {},
   "outputs": [
    {
     "name": "stdout",
     "output_type": "stream",
     "text": [
      "[u original, u vectorized]\n",
      "[[-2.36462159 -2.36462164]\n",
      " [-2.42157285 -2.42157292]\n",
      " [-2.77813517 -2.77813518]\n",
      " [-2.96134029 -2.96134032]\n",
      " [-2.84248631 -2.84248631]\n",
      " [-2.90768447 -2.90768447]\n",
      " [-2.90936752 -2.90936757]\n",
      " [-2.97392531 -2.97392533]\n",
      " [-2.99476203 -2.99476203]\n",
      " [-3.01880578 -3.01880582]\n",
      " [-3.02868449 -3.0286845 ]\n",
      " [-2.98723134 -2.98723136]\n",
      " [-2.98152419 -2.98152421]\n",
      " [-2.97271487 -2.97271486]\n",
      " [-2.94818314 -2.94818311]\n",
      " [-2.96047559 -2.96047557]\n",
      " [-2.97860025 -2.97860024]\n",
      " [-3.0605641  -3.06056407]\n",
      " [-3.10927108 -3.10927109]\n",
      " [-3.0611965  -3.06119654]\n",
      " [-3.09748139 -3.09748138]\n",
      " [-3.06309985 -3.06309982]\n",
      " [-3.1254754  -3.12547541]\n",
      " [-3.06026851 -3.06026854]\n",
      " [-3.0850795  -3.08507954]\n",
      " [-3.26921477 -3.26921472]\n",
      " [-3.13382262 -3.13382259]\n",
      " [-3.20236138 -3.20236136]\n",
      " [-3.53755296 -3.53755298]\n",
      " [-3.95482004 -3.95482007]\n",
      " [-3.88840051 -3.88840058]\n",
      " [-3.88294493 -3.88294496]\n",
      " [-3.83515182 -3.83515182]\n",
      " [-3.84393737 -3.84393741]\n",
      " [-3.96185406 -3.961854  ]\n",
      " [-3.87547955 -3.87547959]\n",
      " [-3.83732722 -3.83732727]\n",
      " [-3.90862805 -3.90862799]\n",
      " [-4.0169318  -4.01693181]\n",
      " [-3.95395421 -3.95395419]\n",
      " [-3.9899973  -3.98999725]\n",
      " [-3.90806871 -3.9080687 ]\n",
      " [-3.80223002 -3.80223   ]\n",
      " [-3.71570732 -3.71570736]\n",
      " [-3.69020162 -3.69020167]\n",
      " [-3.59337314 -3.59337318]\n",
      " [-3.46121781 -3.46121779]\n",
      " [-3.52141358 -3.52141359]\n",
      " [-3.23454244 -3.23454249]\n",
      " [-3.10072323 -3.1007232 ]\n",
      " [-3.1206646  -3.12066457]\n",
      " [-2.97155838 -2.97155841]\n",
      " [-3.0091897  -3.0091897 ]\n",
      " [-3.03884235 -3.03884238]\n",
      " [-2.96078981 -2.96078985]\n",
      " [-2.99136563 -2.99136562]\n",
      " [-3.02222837 -3.02222834]\n",
      " [-3.01910667 -3.01910663]\n",
      " [-3.03509458 -3.0350946 ]\n",
      " [-3.00174711 -3.00174711]\n",
      " [-2.88104046 -2.88104045]\n",
      " [-2.73716916 -2.73716921]\n",
      " [-2.72733957 -2.7273396 ]\n",
      " [-2.74987809 -2.74987808]\n",
      " [-2.38111333 -2.38111335]\n",
      " [-2.18416325 -2.18416326]\n",
      " [-2.04030378 -2.0403038 ]\n",
      " [-2.03279181 -2.03279179]\n",
      " [-2.05481441 -2.0548144 ]\n",
      " [-2.07538183 -2.07538184]\n",
      " [-2.00058224 -2.00058227]\n",
      " [-1.99764198 -1.99764194]\n",
      " [-1.99612821 -1.99612817]\n",
      " [-1.92127053 -1.92127057]\n",
      " [-1.90208384 -1.90208387]\n",
      " [-1.90904072 -1.90904066]\n",
      " [-1.86796085 -1.86796087]\n",
      " [-1.9685812  -1.96858115]\n",
      " [-1.90100345 -1.90100345]]\n"
     ]
    }
   ],
   "source": [
    "# slight descrepancies possibly caused by setting eps to 1e-10\n",
    "print('[u original, u vectorized]')\n",
    "print(np.stack((u_o[0], u_v[0])).T)"
   ]
  },
  {
   "cell_type": "markdown",
   "metadata": {},
   "source": [
    "### Vectorized solution for signal-to-noise calculation"
   ]
  },
  {
   "cell_type": "code",
   "execution_count": 29,
   "metadata": {},
   "outputs": [],
   "source": [
    "from openpiv.pyprocess import vectorized_sig2noise_ratio,\\\n",
    "    sig2noise_ratio"
   ]
  },
  {
   "cell_type": "code",
   "execution_count": 30,
   "metadata": {},
   "outputs": [
    {
     "name": "stdout",
     "output_type": "stream",
     "text": [
      "Wall time: 2.16 s\n"
     ]
    }
   ],
   "source": [
    "%%time\n",
    "peak2peak_o = sig2noise_ratio(corr, 'peak2peak')"
   ]
  },
  {
   "cell_type": "code",
   "execution_count": 31,
   "metadata": {},
   "outputs": [
    {
     "name": "stdout",
     "output_type": "stream",
     "text": [
      "Wall time: 489 ms\n"
     ]
    }
   ],
   "source": [
    "%%time\n",
    "peak2peak_v = vectorized_sig2noise_ratio(corr, 'peak2peak')"
   ]
  },
  {
   "cell_type": "code",
   "execution_count": 32,
   "metadata": {},
   "outputs": [
    {
     "name": "stdout",
     "output_type": "stream",
     "text": [
      "Wall time: 390 ms\n"
     ]
    }
   ],
   "source": [
    "%%time\n",
    "peak2mean_o = sig2noise_ratio(corr, 'peak2mean')"
   ]
  },
  {
   "cell_type": "code",
   "execution_count": 33,
   "metadata": {},
   "outputs": [
    {
     "name": "stdout",
     "output_type": "stream",
     "text": [
      "Wall time: 134 ms\n"
     ]
    }
   ],
   "source": [
    "%%time\n",
    "peak2mean_v = vectorized_sig2noise_ratio(corr, 'peak2mean')"
   ]
  },
  {
   "cell_type": "code",
   "execution_count": 34,
   "metadata": {},
   "outputs": [
    {
     "name": "stdout",
     "output_type": "stream",
     "text": [
      "[original, vectorized]\n",
      "[[1.61201177 1.61201179]\n",
      " [1.50204599 1.50204599]\n",
      " [1.73240205 1.73240209]\n",
      " [1.77473047 1.77473044]\n",
      " [1.76908798 1.76908803]\n",
      " [1.75000654 1.75000656]\n",
      " [1.81941134 1.8194114 ]\n",
      " [2.08015    2.08014989]\n",
      " [2.25951785 2.25951791]\n",
      " [2.30283286 2.30283284]]\n"
     ]
    }
   ],
   "source": [
    "print('[original, vectorized]')\n",
    "print(np.stack((peak2peak_o[0:10], peak2peak_v[0:10])).T)"
   ]
  },
  {
   "cell_type": "code",
   "execution_count": 35,
   "metadata": {},
   "outputs": [
    {
     "name": "stdout",
     "output_type": "stream",
     "text": [
      "[original, vectorized]\n",
      "[[2.55781099 2.55781102]\n",
      " [2.50379178 2.50379181]\n",
      " [2.71928184 2.71928191]\n",
      " [2.86304339 2.86304331]\n",
      " [2.81330867 2.81330872]\n",
      " [2.58982243 2.58982253]\n",
      " [2.6741547  2.67415476]\n",
      " [2.98704881 2.98704886]\n",
      " [3.23796001 3.2379601 ]\n",
      " [3.39735055 3.39735055]]\n"
     ]
    }
   ],
   "source": [
    "print('[original, vectorized]')\n",
    "print(np.stack((peak2mean_o[0:10], peak2mean_v[0:10])).T)"
   ]
  },
  {
   "cell_type": "code",
   "execution_count": null,
   "metadata": {},
   "outputs": [],
   "source": []
  }
 ],
 "metadata": {
  "kernelspec": {
   "display_name": "Python 3",
   "language": "python",
   "name": "python3"
  },
  "language_info": {
   "codemirror_mode": {
    "name": "ipython",
    "version": 3
   },
   "file_extension": ".py",
   "mimetype": "text/x-python",
   "name": "python",
   "nbconvert_exporter": "python",
   "pygments_lexer": "ipython3",
   "version": "3.8.5"
  }
 },
 "nbformat": 4,
 "nbformat_minor": 4
}
